{
 "cells": [
  {
   "cell_type": "markdown",
   "metadata": {},
   "source": [
    "### 安装与使用\n",
    "安装python 驱动器： pip install psycopg2        \n",
    "\n",
    "启动server：pg_ctlcluster 11 main start      \n",
    "\n",
    "su - postgres\n",
    "\n",
    "psql\n",
    "\n",
    "\\password postgres 设置密码"
   ]
  },
  {
   "cell_type": "code",
   "execution_count": 1,
   "metadata": {},
   "outputs": [],
   "source": [
    "import psycopg2"
   ]
  },
  {
   "cell_type": "code",
   "execution_count": 4,
   "metadata": {},
   "outputs": [],
   "source": [
    "conn=psycopg2.connect(database=\"postgres\",user=\"postgres\",password=\"123456\",host=\"localhost\",port=\"5432\")\n",
    "cur=conn.cursor() #创建指针对象"
   ]
  },
  {
   "cell_type": "code",
   "execution_count": 5,
   "metadata": {},
   "outputs": [],
   "source": [
    "# 创建表\n",
    "cur.execute(\"CREATE TABLE student(id integer,name varchar,sex varchar);\")"
   ]
  },
  {
   "cell_type": "code",
   "execution_count": 6,
   "metadata": {},
   "outputs": [],
   "source": [
    "#插入数据\n",
    "cur.execute(\"INSERT INTO student(id,name,sex)VALUES(%s,%s,%s)\",(1,'Aspirin','M'))\n",
    "cur.execute(\"INSERT INTO student(id,name,sex)VALUES(%s,%s,%s)\",(2,'Taxol','F'))\n",
    "cur.execute(\"INSERT INTO student(id,name,sex)VALUES(%s,%s,%s)\",(3,'Dixheral','M'))"
   ]
  },
  {
   "cell_type": "code",
   "execution_count": 7,
   "metadata": {},
   "outputs": [
    {
     "name": "stdout",
     "output_type": "stream",
     "text": [
      "[(1, 'Aspirin', 'M'), (2, 'Taxol', 'F'), (3, 'Dixheral', 'M')]\n"
     ]
    }
   ],
   "source": [
    "# 获取结果\n",
    "cur.execute('SELECT * FROM student')\n",
    "results=cur.fetchall()\n",
    "print (results)"
   ]
  },
  {
   "cell_type": "code",
   "execution_count": 8,
   "metadata": {},
   "outputs": [],
   "source": [
    "# 关闭连接\n",
    "conn.commit()\n",
    "cur.close()\n",
    "conn.close()"
   ]
  },
  {
   "cell_type": "markdown",
   "metadata": {},
   "source": [
    "### 创建testdb 与 dbuser1 \n",
    "Create User dbuser1 WITH PASSWORD '123456';\n",
    "\n",
    "Create DATABASE testdb OWNER dbuser1;\n",
    "\n",
    "GRANT ALL PRIVILEGES ON DATABASE testdb TO dbuser1;\n"
   ]
  },
  {
   "cell_type": "code",
   "execution_count": 39,
   "metadata": {},
   "outputs": [],
   "source": [
    "conn=psycopg2.connect(database=\"testdb\",user=\"dbuser1\",password=\"123456\",host=\"localhost\",port=\"5432\")\n",
    "cur=conn.cursor()"
   ]
  },
  {
   "cell_type": "code",
   "execution_count": 40,
   "metadata": {},
   "outputs": [
    {
     "name": "stdout",
     "output_type": "stream",
     "text": [
      "[('PostgreSQL 11.5 (Ubuntu 11.5-1.pgdg18.04+1) on x86_64-pc-linux-gnu, compiled by gcc (Ubuntu 7.4.0-1ubuntu1~18.04.1) 7.4.0, 64-bit',)]\n"
     ]
    }
   ],
   "source": [
    "cur.execute('select version();')\n",
    "results=cur.fetchall()\n",
    "print (results)"
   ]
  },
  {
   "cell_type": "code",
   "execution_count": 43,
   "metadata": {},
   "outputs": [
    {
     "data": {
      "text/plain": [
       "'drop table if exists COMPANY;\\nCREATE TABLE COMPANY \\n       (ID INT PRIMARY KEY     NOT NULL,\\n       NAME           TEXT    NOT NULL,\\n       AGE            INT     NOT NULL,\\n       ADDRESS        VARCHAR(50),\\n       SALARY         REAL);\\n'"
      ]
     },
     "execution_count": 43,
     "metadata": {},
     "output_type": "execute_result"
    }
   ],
   "source": [
    "# 创建表, 注意多行字符串\n",
    "creates = '''drop table if exists COMPANY;\n",
    "CREATE TABLE COMPANY \n",
    "       (ID INT PRIMARY KEY     NOT NULL,\n",
    "       NAME           TEXT    NOT NULL,\n",
    "       AGE            INT     NOT NULL,\n",
    "       ADDRESS        VARCHAR(50),\n",
    "       SALARY         REAL);\n",
    "'''\n",
    "creates"
   ]
  },
  {
   "cell_type": "code",
   "execution_count": 46,
   "metadata": {},
   "outputs": [],
   "source": [
    "cur.execute(creates)"
   ]
  },
  {
   "cell_type": "code",
   "execution_count": 47,
   "metadata": {},
   "outputs": [],
   "source": [
    "cur.execute(\"INSERT INTO COMPANY (ID,NAME,AGE,ADDRESS,SALARY) VALUES (1, 'Paul', 32, 'California', 20000.00 );\")"
   ]
  },
  {
   "cell_type": "code",
   "execution_count": 48,
   "metadata": {},
   "outputs": [
    {
     "name": "stdout",
     "output_type": "stream",
     "text": [
      "[(1, 'Paul', 'California', 20000.0)]\n"
     ]
    }
   ],
   "source": [
    "cur.execute(\"SELECT id, name, address, salary  from COMPANY\")\n",
    "results=cur.fetchall()\n",
    "print (results)"
   ]
  },
  {
   "cell_type": "code",
   "execution_count": 45,
   "metadata": {},
   "outputs": [],
   "source": [
    "conn.commit()"
   ]
  },
  {
   "cell_type": "code",
   "execution_count": 31,
   "metadata": {},
   "outputs": [],
   "source": [
    "conn.commit()\n",
    "cur.close()\n",
    "conn.close()"
   ]
  },
  {
   "cell_type": "markdown",
   "metadata": {},
   "source": [
    "### API \n",
    "```\n",
    "psycopg2.Connect()参数说明\n",
    "dbname(str):  数据库名称\n",
    "user(str):      用户名      \n",
    "password(str):  密码\n",
    "host(str):      MySQL服务器地址      \n",
    "port(int):      MySQL服务器端口号      \n",
    "\n",
    "connection对象支持的方法      \n",
    "cursor()        使用该连接创建并返回游标\n",
    "commit()        提交当前事务\n",
    "rollback()      回滚当前事务\n",
    "close()         关闭连接\n",
    "\n",
    "cursor对象支持的方法\n",
    "execute(op)     执行一个数据库的查询命令\n",
    "fetchone()      取得结果集的下一行\n",
    "fetchmany(size) 获取结果集的下几行\n",
    "fetchall()      获取结果集中的所有行\n",
    "rowcount()      返回数据条数或影响行数\n",
    "close()         关闭游标对象\n",
    "```\n",
    "\n",
    "python Db 接口对比：   \n",
    "https://wiki.python.org/moin/DbApiCheatSheet"
   ]
  },
  {
   "cell_type": "markdown",
   "metadata": {},
   "source": [
    "### 操作fdw "
   ]
  },
  {
   "cell_type": "code",
   "execution_count": 1,
   "metadata": {},
   "outputs": [],
   "source": [
    "import psycopg2"
   ]
  },
  {
   "cell_type": "code",
   "execution_count": 2,
   "metadata": {},
   "outputs": [],
   "source": [
    "conn=psycopg2.connect(database=\"postgres\",user=\"postgres\",password=\"123456\",host=\"localhost\",port=\"5432\")\n",
    "cur=conn.cursor()"
   ]
  },
  {
   "cell_type": "code",
   "execution_count": 12,
   "metadata": {},
   "outputs": [],
   "source": [
    "# 防止重复生成，使用 Cascade; \n",
    "createfdw = '''\n",
    "drop extension file_fdw CASCADE;\n",
    "CREATE EXTENSION file_fdw;\n",
    "CREATE SERVER server_csv FOREIGN DATA WRAPPER file_fdw;\n",
    "'''"
   ]
  },
  {
   "cell_type": "code",
   "execution_count": 15,
   "metadata": {},
   "outputs": [],
   "source": [
    "cur.execute(createfdw)"
   ]
  },
  {
   "cell_type": "code",
   "execution_count": 16,
   "metadata": {},
   "outputs": [],
   "source": [
    "# 查看磁盘使用量\n",
    "dfsql = '''\n",
    "drop FOREIGN table if EXISTS disk_free;\n",
    "    CREATE FOREIGN TABLE disk_free (\n",
    "file_system TEXT,\n",
    "size varchar(50),\n",
    "used  varchar(50),\n",
    "avail  varchar(50),\n",
    "capacity TEXT,\n",
    "mounted_on TEXT\n",
    ") SERVER server_csv OPTIONS (PROGRAM\n",
    "$$\n",
    "df -h| awk '{print $1,$2,$3,$4,$5,$6}' OFS='\\037'\n",
    "$$\n",
    ", FORMAT 'csv', HEADER 'TRUE', DELIMITER E'\\037');\n",
    "'''"
   ]
  },
  {
   "cell_type": "code",
   "execution_count": 17,
   "metadata": {},
   "outputs": [],
   "source": [
    "cur.execute(dfsql)"
   ]
  },
  {
   "cell_type": "code",
   "execution_count": 18,
   "metadata": {},
   "outputs": [
    {
     "name": "stdout",
     "output_type": "stream",
     "text": [
      "[('rootfs', '116G', '64G', '52G', '56%', '/'), ('none', '116G', '64G', '52G', '56%', '/dev'), ('none', '116G', '64G', '52G', '56%', '/run'), ('none', '116G', '64G', '52G', '56%', '/run/lock'), ('none', '116G', '64G', '52G', '56%', '/run/shm'), ('none', '116G', '64G', '52G', '56%', '/run/user'), ('cgroup', '116G', '64G', '52G', '56%', '/sys/fs/cgroup'), ('C:\\\\', '116G', '64G', '52G', '56%', '/mnt/c'), ('D:\\\\', '56G', '17G', '40G', '30%', '/mnt/d'), ('E:\\\\', '67G', '15G', '52G', '23%', '/mnt/e'), ('F:\\\\', '466G', '243G', '224G', '52%', '/mnt/f')]\n"
     ]
    }
   ],
   "source": [
    "# 查看结果\n",
    "cur.execute(\"select * from disk_free\")\n",
    "results=cur.fetchall()\n",
    "print (results)"
   ]
  },
  {
   "cell_type": "code",
   "execution_count": 36,
   "metadata": {},
   "outputs": [],
   "source": [
    "def printsql(cur, length = 10):\n",
    "    # 获取结果集的每一行\n",
    "    rows = cur.fetchall()\n",
    "    # 获取所有字段名，tuple\n",
    "    all_fields = cur.description\n",
    "    \n",
    "    \n",
    "    # 首先打印字段名\n",
    "    field_messages = []\n",
    "    for i in range(len(all_fields)):\n",
    "        # 格式化输出结果，len参数是各列的显示宽度，可以指定常量，也可自定义函数进行获取。\n",
    "        field_messages.append(\"{str:<{len}}\".format(str=str(all_fields[i][0]), len=length))\n",
    "    \n",
    "    field_message = \"\".join(field_messages)\n",
    "    print(field_message)\n",
    "    \n",
    "    # 然后逐行打印结果集\n",
    "    for row in rows:\n",
    "        row_messages = []\n",
    "        for j in range(len(row)):\n",
    "            # 格式化结果集\n",
    "            row_messages.append(\"{str:<{len}}\".format(str=str(row[j]), len=length))\n",
    "        row_message = \"\".join(row_messages)\n",
    "        print(row_message)"
   ]
  },
  {
   "cell_type": "code",
   "execution_count": 38,
   "metadata": {
    "scrolled": true
   },
   "outputs": [
    {
     "name": "stdout",
     "output_type": "stream",
     "text": [
      "file_system size        used        avail       capacity    mounted_on  \n",
      "rootfs      116G        64G         52G         56%         /           \n",
      "none        116G        64G         52G         56%         /dev        \n",
      "none        116G        64G         52G         56%         /run        \n",
      "none        116G        64G         52G         56%         /run/lock   \n",
      "none        116G        64G         52G         56%         /run/shm    \n",
      "none        116G        64G         52G         56%         /run/user   \n",
      "cgroup      116G        64G         52G         56%         /sys/fs/cgroup\n",
      "C:\\         116G        64G         52G         56%         /mnt/c      \n",
      "D:\\         56G         17G         40G         30%         /mnt/d      \n",
      "E:\\         67G         15G         52G         23%         /mnt/e      \n",
      "F:\\         466G        243G        224G        52%         /mnt/f      \n"
     ]
    }
   ],
   "source": [
    "cur.execute(\"select * from disk_free\")\n",
    "printsql(cur, 12)"
   ]
  },
  {
   "cell_type": "code",
   "execution_count": 34,
   "metadata": {},
   "outputs": [
    {
     "data": {
      "text/plain": [
       "'hello   '"
      ]
     },
     "execution_count": 34,
     "metadata": {},
     "output_type": "execute_result"
    }
   ],
   "source": [
    "# ^, <, > 分别是居中、左对齐、右对齐，后面带宽度，默认是用空格填充。\n",
    "\"{str:<7} \".format(str = 'hello')"
   ]
  },
  {
   "cell_type": "code",
   "execution_count": 50,
   "metadata": {},
   "outputs": [
    {
     "name": "stdout",
     "output_type": "stream",
     "text": [
      "good\n",
      "good\n"
     ]
    }
   ],
   "source": [
    "# python 可以允许出notebook输入\n",
    "a = input()\n",
    "print(a)"
   ]
  },
  {
   "cell_type": "code",
   "execution_count": null,
   "metadata": {},
   "outputs": [],
   "source": []
  }
 ],
 "metadata": {
  "kernelspec": {
   "display_name": "Python 3",
   "language": "python",
   "name": "python3"
  },
  "language_info": {
   "codemirror_mode": {
    "name": "ipython",
    "version": 3
   },
   "file_extension": ".py",
   "mimetype": "text/x-python",
   "name": "python",
   "nbconvert_exporter": "python",
   "pygments_lexer": "ipython3",
   "version": "3.7.3"
  },
  "toc": {
   "base_numbering": 1,
   "nav_menu": {},
   "number_sections": true,
   "sideBar": true,
   "skip_h1_title": false,
   "title_cell": "Table of Contents",
   "title_sidebar": "Contents",
   "toc_cell": false,
   "toc_position": {},
   "toc_section_display": true,
   "toc_window_display": true
  },
  "varInspector": {
   "cols": {
    "lenName": 16,
    "lenType": 16,
    "lenVar": 40
   },
   "kernels_config": {
    "python": {
     "delete_cmd_postfix": "",
     "delete_cmd_prefix": "del ",
     "library": "var_list.py",
     "varRefreshCmd": "print(var_dic_list())"
    },
    "r": {
     "delete_cmd_postfix": ") ",
     "delete_cmd_prefix": "rm(",
     "library": "var_list.r",
     "varRefreshCmd": "cat(var_dic_list()) "
    }
   },
   "types_to_exclude": [
    "module",
    "function",
    "builtin_function_or_method",
    "instance",
    "_Feature"
   ],
   "window_display": false
  }
 },
 "nbformat": 4,
 "nbformat_minor": 2
}

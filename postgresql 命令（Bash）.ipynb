{
 "cells": [
  {
   "cell_type": "markdown",
   "metadata": {},
   "source": [
    "### 在bash中操作\n",
    "注意登录用户名为postgres 或注册过的用户名       \n",
    "操作对象为superuser;       "
   ]
  },
  {
   "cell_type": "code",
   "execution_count": 1,
   "metadata": {},
   "outputs": [
    {
     "name": "stdout",
     "output_type": "stream",
     "text": [
      "psql (PostgreSQL) 11.5 (Ubuntu 11.5-1.pgdg18.04+1)\n"
     ]
    }
   ],
   "source": [
    "# 查看PostgreSQL 版本\n",
    "psql --version"
   ]
  },
  {
   "cell_type": "code",
   "execution_count": 2,
   "metadata": {},
   "outputs": [
    {
     "name": "stdout",
     "output_type": "stream",
     "text": [
      "\n",
      "Command 'create' not found, did you mean:\n",
      "\n",
      "  command 'pcreate' from deb pbuilder-scripts\n",
      "  command 'pcreate' from deb python-pyramid\n",
      "\n",
      "Try: sudo apt install <deb name>\n",
      "\n"
     ]
    },
    {
     "ename": "",
     "evalue": "127",
     "output_type": "error",
     "traceback": []
    }
   ],
   "source": [
    "create user yichang with password '123456'"
   ]
  },
  {
   "cell_type": "code",
   "execution_count": 3,
   "metadata": {
    "scrolled": true
   },
   "outputs": [
    {
     "name": "stdout",
     "output_type": "stream",
     "text": [
      "                                  数据库列表\n",
      "   名称    |  拥有者  | 字元编码 | 校对规则 |  Ctype  |       存取权限        \n",
      "-----------+----------+----------+----------+---------+-----------------------\n",
      " postgres  | postgres | UTF8     | C.UTF-8  | C.UTF-8 | \n",
      " template0 | postgres | UTF8     | C.UTF-8  | C.UTF-8 | =c/postgres          +\n",
      "           |          |          |          |         | postgres=CTc/postgres\n",
      " template1 | postgres | UTF8     | C.UTF-8  | C.UTF-8 | =c/postgres          +\n",
      "           |          |          |          |         | postgres=CTc/postgres\n",
      " testdb    | dbuser1  | UTF8     | C.UTF-8  | C.UTF-8 | =Tc/dbuser1          +\n",
      "           |          |          |          |         | dbuser1=CTc/dbuser1  +\n",
      "           |          |          |          |         | yichang=CTc/dbuser1\n",
      "(4 行记录)\n",
      "\n"
     ]
    }
   ],
   "source": [
    "psql -l"
   ]
  },
  {
   "cell_type": "code",
   "execution_count": null,
   "metadata": {},
   "outputs": [
    {
     "name": "stdout",
     "output_type": "stream",
     "text": [
      "psql (11.5 (Ubuntu 11.5-1.pgdg18.04+1))\n",
      "输入 \"help\" 来获取帮助信息.\n",
      "\n"
     ]
    }
   ],
   "source": [
    "# 链接数据库； 进入sql shell 之后无显示； \n",
    "psql -d testdb"
   ]
  },
  {
   "cell_type": "code",
   "execution_count": null,
   "metadata": {},
   "outputs": [],
   "source": [
    "# 被阻塞无法执行； \n",
    "select * from company; "
   ]
  },
  {
   "cell_type": "code",
   "execution_count": null,
   "metadata": {},
   "outputs": [],
   "source": [
    "psql -d testdb -c '\\du'"
   ]
  },
  {
   "cell_type": "code",
   "execution_count": 1,
   "metadata": {
    "scrolled": true
   },
   "outputs": [
    {
     "name": "stdout",
     "output_type": "stream",
     "text": [
      "用户 yichang 的口令：\r\n"
     ]
    }
   ],
   "source": [
    "psql -c \"select version()\" -h localhost -p 5432 -U yichang"
   ]
  },
  {
   "cell_type": "code",
   "execution_count": 2,
   "metadata": {},
   "outputs": [
    {
     "name": "stdout",
     "output_type": "stream",
     "text": [
      "bash: 未预期的符号 `(' 附近有语法错误\n",
      "bash: 未预期的符号 `res.stdout.decode' 附近有语法错误\n"
     ]
    },
    {
     "ename": "",
     "evalue": "2",
     "output_type": "error",
     "traceback": []
    }
   ],
   "source": []
  },
  {
   "cell_type": "code",
   "execution_count": null,
   "metadata": {},
   "outputs": [],
   "source": []
  }
 ],
 "metadata": {
  "kernelspec": {
   "display_name": "Bash",
   "language": "bash",
   "name": "bash"
  },
  "language_info": {
   "codemirror_mode": "shell",
   "file_extension": ".sh",
   "mimetype": "text/x-sh",
   "name": "bash"
  },
  "toc": {
   "base_numbering": 1,
   "nav_menu": {},
   "number_sections": true,
   "sideBar": true,
   "skip_h1_title": false,
   "title_cell": "Table of Contents",
   "title_sidebar": "Contents",
   "toc_cell": false,
   "toc_position": {},
   "toc_section_display": true,
   "toc_window_display": false
  },
  "varInspector": {
   "cols": {
    "lenName": 16,
    "lenType": 16,
    "lenVar": 40
   },
   "kernels_config": {
    "python": {
     "delete_cmd_postfix": "",
     "delete_cmd_prefix": "del ",
     "library": "var_list.py",
     "varRefreshCmd": "print(var_dic_list())"
    },
    "r": {
     "delete_cmd_postfix": ") ",
     "delete_cmd_prefix": "rm(",
     "library": "var_list.r",
     "varRefreshCmd": "cat(var_dic_list()) "
    }
   },
   "types_to_exclude": [
    "module",
    "function",
    "builtin_function_or_method",
    "instance",
    "_Feature"
   ],
   "window_display": false
  }
 },
 "nbformat": 4,
 "nbformat_minor": 2
}
